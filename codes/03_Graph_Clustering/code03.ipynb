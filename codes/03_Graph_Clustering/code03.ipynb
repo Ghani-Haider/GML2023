{
 "cells": [
  {
   "cell_type": "markdown",
   "metadata": {},
   "source": [
    "# Graph Clustering\n",
    "\n",
    "## Lab 03 : Metis \n",
    "\n",
    "### Xavier Bresson  \n"
   ]
  },
  {
   "cell_type": "code",
   "execution_count": 1,
   "metadata": {},
   "outputs": [],
   "source": [
    "# For Google Colaboratory\n",
    "import sys, os\n",
    "if 'google.colab' in sys.modules:\n",
    "    # mount google drive\n",
    "    from google.colab import drive\n",
    "    drive.mount('/content/gdrive')\n",
    "    path_to_file = '/content/gdrive/My Drive/GML2023_codes/codes/03_Graph_Clustering'\n",
    "    print(path_to_file)\n",
    "    # change current path to the folder containing \"path_to_file\"\n",
    "    os.chdir(path_to_file)\n",
    "    !pip install pymetis # install metis \n",
    "    !pwd\n",
    "    "
   ]
  },
  {
   "cell_type": "code",
   "execution_count": 2,
   "metadata": {},
   "outputs": [],
   "source": [
    "# Data conversion used in this notebook\n",
    "#  from DGL to networkx :                          G_nx = dgl.to_networkx(G_dgl)\n",
    "#  from scipy.sparse._csc.csc_matrix to DGL :      G_dgl = dgl.from_scipy(G_sp)\n",
    "#  from scipy.sparse._csc.csc_matrix to networkx : G_nx = nx.from_scipy_sparse_array(G_sp)\n",
    "#  from networkx to numpy :                        G_np = nx.to_numpy_array(G_nx)\n"
   ]
  },
  {
   "cell_type": "code",
   "execution_count": null,
   "metadata": {},
   "outputs": [],
   "source": [
    "# Load libraries\n",
    "import numpy as np\n",
    "import scipy.io\n",
    "%matplotlib inline\n",
    "#%matplotlib notebook \n",
    "from matplotlib import pyplot\n",
    "import matplotlib.pyplot as plt\n",
    "import time\n",
    "import sys; sys.path.insert(0, 'lib/')\n",
    "%load_ext autoreload\n",
    "%autoreload 2\n",
    "from lib.utils import compute_purity\n",
    "import warnings; warnings.filterwarnings(\"ignore\")\n",
    "from lib.utils import nldr_visualization\n",
    "import os\n",
    "import torch\n",
    "import networkx as nx\n",
    "import dgl # DGL\n",
    "import pymetis # PyG Metis\n"
   ]
  },
  {
   "cell_type": "markdown",
   "metadata": {},
   "source": [
    "# Artifical balanced graph"
   ]
  },
  {
   "cell_type": "code",
   "execution_count": null,
   "metadata": {},
   "outputs": [],
   "source": [
    "# Build a simple artificail graph of 3 balanced communities with DGL\n",
    "r = torch.LongTensor([0, 0, 1, 3, 3, 4, 6, 6, 7, 1, 2])\n",
    "c = torch.LongTensor([2, 1, 2, 4, 5, 5, 7, 8, 8, 7, 3])\n",
    "n = 9\n",
    "G_dgl = dgl.graph((r,c), num_nodes=n)\n",
    "G_dgl = dgl.add_reverse_edges(G_dgl) # undirected graph\n",
    "print(G_dgl)\n",
    "print(G_dgl.nodes())\n",
    "print(G_dgl.edges())\n",
    "\n",
    "# Plot graph\n",
    "G_nx = dgl.to_networkx(G_dgl)\n",
    "plt.figure(figsize=[7,7])\n",
    "nx.draw_networkx(G_nx, with_labels=True)\n"
   ]
  },
  {
   "cell_type": "code",
   "execution_count": null,
   "metadata": {},
   "outputs": [],
   "source": [
    "# Run Metis with DGL\n",
    "#  https://docs.dgl.ai/en/0.8.x/generated/dgl.dataloading.ClusterGCNSampler.html\n",
    "\n",
    "try: os.remove(\"cluster_gcn.pkl\") # remove any existing partition\n",
    "except: pass \n",
    "num_parts = 3\n",
    "sampler = dgl.dataloading.ClusterGCNSampler(G_dgl, num_parts) \n",
    "C_metis_dgl = torch.zeros(G_dgl.num_nodes()).long()\n",
    "for idx, (idx_start, idx_end) in enumerate(zip(sampler.partition_offset[:num_parts], sampler.partition_offset[1:num_parts+1])):\n",
    "    C_metis_dgl[sampler.partition_node_ids[idx_start: idx_end]] = idx\n",
    "print('C_metis_dgl',C_metis_dgl)\n",
    "G_nx = dgl.to_networkx(G_dgl)\n",
    "plt.figure(figsize=[7,7])\n",
    "nx.draw_networkx(G_nx, with_labels=True, node_color=C_metis_dgl, cmap='jet')\n"
   ]
  },
  {
   "cell_type": "code",
   "execution_count": null,
   "metadata": {},
   "outputs": [],
   "source": [
    "# Run Metis with PyG\n",
    "#  https://github.com/inducer/pymetis/blob/master/pymetis/__init__.py\n",
    "\n",
    "num_parts = 3\n",
    "G_nx = dgl.to_networkx(G_dgl)\n",
    "_, part_vert = pymetis.part_graph(num_parts, adjacency=G_nx)\n",
    "C_metis_pyg = torch.tensor(part_vert).long()\n",
    "print('C_metis_pyg',C_metis_pyg)\n",
    "plt.figure(figsize=[7,7])\n",
    "nx.draw_networkx(G_nx, with_labels=True, node_color=C_metis_pyg, cmap='jet')\n"
   ]
  },
  {
   "cell_type": "markdown",
   "metadata": {},
   "source": [
    "# Real-world USPS image graph"
   ]
  },
  {
   "cell_type": "code",
   "execution_count": null,
   "metadata": {},
   "outputs": [],
   "source": [
    "# Load USPS Music dataset\n",
    "mat = scipy.io.loadmat('datasets/USPS.mat')\n",
    "W = mat['W'] # scipy.sparse._csc.csc_matrix\n",
    "n = W.shape[0]\n",
    "Cgt = mat['Cgt']-1; Cgt = Cgt.squeeze()\n",
    "nc = len(np.unique(Cgt))\n",
    "print('n,nc:',n,nc)\n"
   ]
  },
  {
   "cell_type": "code",
   "execution_count": null,
   "metadata": {},
   "outputs": [],
   "source": [
    "# Run Metis with DGL\n",
    "#  https://docs.dgl.ai/en/0.8.x/generated/dgl.dataloading.ClusterGCNSampler.html\n",
    "\n",
    "try: os.remove(\"cluster_gcn.pkl\") # remove any existing partition\n",
    "except: pass \n",
    "num_parts = nc\n",
    "G_dgl = dgl.from_scipy(W)\n",
    "sampler = dgl.dataloading.ClusterGCNSampler(G_dgl, num_parts) \n",
    "C_metis_dgl = torch.zeros(G_dgl.num_nodes()).long()\n",
    "for idx, (idx_start, idx_end) in enumerate(zip(sampler.partition_offset[:num_parts], sampler.partition_offset[1:num_parts+1])):\n",
    "    C_metis_dgl[sampler.partition_node_ids[idx_start: idx_end]] = idx\n",
    "print('C_metis_dgl',C_metis_dgl)\n",
    "C_metis_dgl = np.array(C_metis_dgl, dtype='int32')\n",
    "acc = compute_purity(C_metis_dgl, Cgt, nc)\n",
    "print('\\nAccuracy Metis DGL :',acc)\n"
   ]
  },
  {
   "cell_type": "code",
   "execution_count": null,
   "metadata": {},
   "outputs": [],
   "source": [
    "# Run Metis with PyG\n",
    "#  https://github.com/inducer/pymetis/blob/master/pymetis/__init__.py\n",
    "\n",
    "num_parts = nc\n",
    "G_nx = nx.from_scipy_sparse_array(W)\n",
    "_, part_vert = pymetis.part_graph(num_parts, adjacency=G_nx)\n",
    "C_metis_pyg = np.array(part_vert,dtype='int32')\n",
    "acc = compute_purity(C_metis_pyg, Cgt, nc)\n",
    "print('\\nAccuracy Metis PyG :',acc)\n"
   ]
  },
  {
   "cell_type": "code",
   "execution_count": null,
   "metadata": {},
   "outputs": [],
   "source": [
    "# Compute non-linear dim reduction\n",
    "[X,Y,Z] = nldr_visualization(nx.to_numpy_array(G_nx))\n",
    "#[X,Y,Z] = compute_non_linear_dim_reduction(nx.to_numpy_array(G_nx))\n",
    "print(X.shape)\n",
    "\n",
    "# 2D Visualization\n",
    "plt.figure(3)\n",
    "plt.scatter(X, Y, c=C_metis_dgl, s=3, color=pyplot.jet())\n",
    "plt.show()\n",
    "\n",
    "#  3D Visualization\n",
    "fig = plt.figure(figsize=(10,10))\n",
    "ax = fig.add_subplot(111, projection='3d')\n",
    "ax.scatter(X, Y, Z, c=C_metis_dgl, s=5)\n",
    "ax.set_box_aspect((1, 1, 1), zoom=2)\n",
    "#ax.set_axis_off()\n",
    "ax.axes.xaxis.set_ticklabels([])\n",
    "ax.axes.yaxis.set_ticklabels([])\n",
    "ax.axes.zaxis.set_ticklabels([])\n",
    "ax.view_init(elev=30, azim=-45)\n",
    "plt.show()\n"
   ]
  },
  {
   "cell_type": "code",
   "execution_count": null,
   "metadata": {},
   "outputs": [],
   "source": []
  },
  {
   "cell_type": "code",
   "execution_count": null,
   "metadata": {},
   "outputs": [],
   "source": []
  }
 ],
 "metadata": {
  "kernelspec": {
   "display_name": "Python 3 (ipykernel)",
   "language": "python",
   "name": "python3"
  },
  "language_info": {
   "codemirror_mode": {
    "name": "ipython",
    "version": 3
   },
   "file_extension": ".py",
   "mimetype": "text/x-python",
   "name": "python",
   "nbconvert_exporter": "python",
   "pygments_lexer": "ipython3",
   "version": "3.8.19"
  }
 },
 "nbformat": 4,
 "nbformat_minor": 4
}
